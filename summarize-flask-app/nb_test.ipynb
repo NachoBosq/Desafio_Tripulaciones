{
 "cells": [
  {
   "cell_type": "code",
   "execution_count": 2,
   "metadata": {},
   "outputs": [],
   "source": [
    "#pip install python-dotenv"
   ]
  },
  {
   "cell_type": "code",
   "execution_count": 2,
   "metadata": {},
   "outputs": [],
   "source": [
    "from sqlalchemy import create_engine, text\n",
    "import pandas as pd"
   ]
  },
  {
   "cell_type": "code",
   "execution_count": 3,
   "metadata": {},
   "outputs": [],
   "source": [
    "db_user = '*****'\n",
    "db_password = '*****'\n",
    "db_host = '*****'\n",
    "db_port = '*****'\n",
    "db_name = '*****'\n",
    "\n",
    "DATABASE_URI = f'mysql+pymysql://{db_user}:{db_password}@{db_host}:{db_port}/{db_name}'\n",
    "engine = create_engine(DATABASE_URI)"
   ]
  },
  {
   "cell_type": "code",
   "execution_count": 4,
   "metadata": {},
   "outputs": [],
   "source": [
    "query = \"SELECT * FROM Summaries\""
   ]
  },
  {
   "cell_type": "code",
   "execution_count": 5,
   "metadata": {},
   "outputs": [
    {
     "data": {
      "text/html": [
       "<div>\n",
       "<style scoped>\n",
       "    .dataframe tbody tr th:only-of-type {\n",
       "        vertical-align: middle;\n",
       "    }\n",
       "\n",
       "    .dataframe tbody tr th {\n",
       "        vertical-align: top;\n",
       "    }\n",
       "\n",
       "    .dataframe thead th {\n",
       "        text-align: right;\n",
       "    }\n",
       "</style>\n",
       "<table border=\"1\" class=\"dataframe\">\n",
       "  <thead>\n",
       "    <tr style=\"text-align: right;\">\n",
       "      <th></th>\n",
       "      <th>id</th>\n",
       "      <th>event_id</th>\n",
       "      <th>youtube_link</th>\n",
       "      <th>summary</th>\n",
       "      <th>createdAt</th>\n",
       "      <th>updatedAt</th>\n",
       "    </tr>\n",
       "  </thead>\n",
       "  <tbody>\n",
       "    <tr>\n",
       "      <th>0</th>\n",
       "      <td>4</td>\n",
       "      <td>5</td>\n",
       "      <td>https://www.youtube.com/watch?v=hRdVg_JATII&amp;ab...</td>\n",
       "      <td>Totara ofrece una plataforma completa de apren...</td>\n",
       "      <td>2024-06-26 23:11:04</td>\n",
       "      <td>2024-06-26 23:11:04</td>\n",
       "    </tr>\n",
       "    <tr>\n",
       "      <th>1</th>\n",
       "      <td>5</td>\n",
       "      <td>7</td>\n",
       "      <td>https://www.youtube.com/watch?v=LqME1y6Mlyg&amp;ab...</td>\n",
       "      <td>En este divertido e informativo video de \"In M...</td>\n",
       "      <td>2024-06-26 23:51:58</td>\n",
       "      <td>2024-06-26 23:51:58</td>\n",
       "    </tr>\n",
       "    <tr>\n",
       "      <th>2</th>\n",
       "      <td>6</td>\n",
       "      <td>9</td>\n",
       "      <td>https://www.youtube.com/watch?v=nIk3DedjxJM&amp;ab...</td>\n",
       "      <td>Lorenzo Musetti, el prometedor tenista italian...</td>\n",
       "      <td>2024-06-27 00:41:13</td>\n",
       "      <td>2024-06-27 00:41:13</td>\n",
       "    </tr>\n",
       "    <tr>\n",
       "      <th>3</th>\n",
       "      <td>7</td>\n",
       "      <td>123</td>\n",
       "      <td>https://www.youtube.com/watch?v=E-DDmIhL4IM&amp;ab...</td>\n",
       "      <td>La escena captura un momento de tranquilidad y...</td>\n",
       "      <td>2024-06-27 10:32:03</td>\n",
       "      <td>2024-06-27 10:32:03</td>\n",
       "    </tr>\n",
       "  </tbody>\n",
       "</table>\n",
       "</div>"
      ],
      "text/plain": [
       "   id  event_id                                       youtube_link  \\\n",
       "0   4         5  https://www.youtube.com/watch?v=hRdVg_JATII&ab...   \n",
       "1   5         7  https://www.youtube.com/watch?v=LqME1y6Mlyg&ab...   \n",
       "2   6         9  https://www.youtube.com/watch?v=nIk3DedjxJM&ab...   \n",
       "3   7       123  https://www.youtube.com/watch?v=E-DDmIhL4IM&ab...   \n",
       "\n",
       "                                             summary           createdAt  \\\n",
       "0  Totara ofrece una plataforma completa de apren... 2024-06-26 23:11:04   \n",
       "1  En este divertido e informativo video de \"In M... 2024-06-26 23:51:58   \n",
       "2  Lorenzo Musetti, el prometedor tenista italian... 2024-06-27 00:41:13   \n",
       "3  La escena captura un momento de tranquilidad y... 2024-06-27 10:32:03   \n",
       "\n",
       "            updatedAt  \n",
       "0 2024-06-26 23:11:04  \n",
       "1 2024-06-26 23:51:58  \n",
       "2 2024-06-27 00:41:13  \n",
       "3 2024-06-27 10:32:03  "
      ]
     },
     "execution_count": 5,
     "metadata": {},
     "output_type": "execute_result"
    }
   ],
   "source": [
    "pd.read_sql(query, engine)"
   ]
  },
  {
   "cell_type": "code",
   "execution_count": null,
   "metadata": {},
   "outputs": [],
   "source": []
  },
  {
   "cell_type": "code",
   "execution_count": null,
   "metadata": {},
   "outputs": [],
   "source": []
  }
 ],
 "metadata": {
  "kernelspec": {
   "display_name": "DesafioTripuEnv",
   "language": "python",
   "name": "python3"
  },
  "language_info": {
   "codemirror_mode": {
    "name": "ipython",
    "version": 3
   },
   "file_extension": ".py",
   "mimetype": "text/x-python",
   "name": "python",
   "nbconvert_exporter": "python",
   "pygments_lexer": "ipython3",
   "version": "3.12.4"
  }
 },
 "nbformat": 4,
 "nbformat_minor": 2
}
