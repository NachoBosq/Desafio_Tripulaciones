{
 "cells": [
  {
   "cell_type": "code",
   "execution_count": 6,
   "metadata": {},
   "outputs": [],
   "source": [
    "import pandas as pd\n",
    "import numpy as np\n",
    "from sqlalchemy import create_engine\n",
    "import matplotlib.pyplot\n"
   ]
  },
  {
   "cell_type": "code",
   "execution_count": 10,
   "metadata": {},
   "outputs": [],
   "source": [
    "users = pd.read_csv('/Users/carlosoliver/Desktop/desafio_tripulaciones/users_data.csv', sep=',')"
   ]
  },
  {
   "cell_type": "code",
   "execution_count": 13,
   "metadata": {},
   "outputs": [
    {
     "data": {
      "text/plain": [
       "0    Gluten\n",
       "Name: alergenos, dtype: object"
      ]
     },
     "execution_count": 13,
     "metadata": {},
     "output_type": "execute_result"
    }
   ],
   "source": [
    "users.iloc[:1,:]['alergenos']"
   ]
  },
  {
   "cell_type": "code",
   "execution_count": 14,
   "metadata": {},
   "outputs": [
    {
     "name": "stderr",
     "output_type": "stream",
     "text": [
      "/var/folders/z3/hzk3_13n5c10wmqwhtszhh840000gn/T/ipykernel_61055/626608193.py:16: SettingWithCopyWarning: \n",
      "A value is trying to be set on a copy of a slice from a DataFrame.\n",
      "Try using .loc[row_indexer,col_indexer] = value instead\n",
      "\n",
      "See the caveats in the documentation: https://pandas.pydata.org/pandas-docs/stable/user_guide/indexing.html#returning-a-view-versus-a-copy\n",
      "  features[column] = label_encoders[column].fit_transform(features[column].astype(str))\n",
      "/var/folders/z3/hzk3_13n5c10wmqwhtszhh840000gn/T/ipykernel_61055/626608193.py:16: SettingWithCopyWarning: \n",
      "A value is trying to be set on a copy of a slice from a DataFrame.\n",
      "Try using .loc[row_indexer,col_indexer] = value instead\n",
      "\n",
      "See the caveats in the documentation: https://pandas.pydata.org/pandas-docs/stable/user_guide/indexing.html#returning-a-view-versus-a-copy\n",
      "  features[column] = label_encoders[column].fit_transform(features[column].astype(str))\n",
      "/var/folders/z3/hzk3_13n5c10wmqwhtszhh840000gn/T/ipykernel_61055/626608193.py:16: SettingWithCopyWarning: \n",
      "A value is trying to be set on a copy of a slice from a DataFrame.\n",
      "Try using .loc[row_indexer,col_indexer] = value instead\n",
      "\n",
      "See the caveats in the documentation: https://pandas.pydata.org/pandas-docs/stable/user_guide/indexing.html#returning-a-view-versus-a-copy\n",
      "  features[column] = label_encoders[column].fit_transform(features[column].astype(str))\n",
      "/var/folders/z3/hzk3_13n5c10wmqwhtszhh840000gn/T/ipykernel_61055/626608193.py:16: SettingWithCopyWarning: \n",
      "A value is trying to be set on a copy of a slice from a DataFrame.\n",
      "Try using .loc[row_indexer,col_indexer] = value instead\n",
      "\n",
      "See the caveats in the documentation: https://pandas.pydata.org/pandas-docs/stable/user_guide/indexing.html#returning-a-view-versus-a-copy\n",
      "  features[column] = label_encoders[column].fit_transform(features[column].astype(str))\n",
      "/var/folders/z3/hzk3_13n5c10wmqwhtszhh840000gn/T/ipykernel_61055/626608193.py:16: SettingWithCopyWarning: \n",
      "A value is trying to be set on a copy of a slice from a DataFrame.\n",
      "Try using .loc[row_indexer,col_indexer] = value instead\n",
      "\n",
      "See the caveats in the documentation: https://pandas.pydata.org/pandas-docs/stable/user_guide/indexing.html#returning-a-view-versus-a-copy\n",
      "  features[column] = label_encoders[column].fit_transform(features[column].astype(str))\n"
     ]
    },
    {
     "data": {
      "text/plain": [
       "['clustering_model.pkl']"
      ]
     },
     "execution_count": 14,
     "metadata": {},
     "output_type": "execute_result"
    }
   ],
   "source": [
    "import pandas as pd\n",
    "from sklearn.preprocessing import LabelEncoder, StandardScaler\n",
    "from sklearn.cluster import KMeans\n",
    "import joblib\n",
    "\n",
    "# Supongamos que 'Users' es tu DataFrame con los datos\n",
    "# users = pd.read_csv('users.csv')\n",
    "\n",
    "# Seleccionar las características relevantes para el clustering\n",
    "features = users[['rol', 'puesto_trabajo', 'pais', 'interes', 'alergenos']]\n",
    "\n",
    "# Transformar las variables categóricas en números\n",
    "label_encoders = {}\n",
    "for column in features.columns:\n",
    "    label_encoders[column] = LabelEncoder()\n",
    "    features[column] = label_encoders[column].fit_transform(features[column].astype(str))\n",
    "\n",
    "# Normalizar los datos\n",
    "scaler = StandardScaler()\n",
    "features_scaled = scaler.fit_transform(features)\n",
    "\n",
    "# Aplicar K-means con el número óptimo de clusters (4 clusters en este caso)\n",
    "kmeans = KMeans(n_clusters=4, random_state=0)\n",
    "kmeans.fit(features_scaled)\n",
    "\n",
    "# Guardar el modelo y los label encoders en un archivo .pkl\n",
    "joblib.dump((kmeans, label_encoders, scaler), 'clustering_model.pkl')\n"
   ]
  },
  {
   "cell_type": "code",
   "execution_count": 23,
   "metadata": {},
   "outputs": [
    {
     "ename": "NameError",
     "evalue": "name 'categorical_features' is not defined",
     "output_type": "error",
     "traceback": [
      "\u001b[0;31m---------------------------------------------------------------------------\u001b[0m",
      "\u001b[0;31mNameError\u001b[0m                                 Traceback (most recent call last)",
      "Cell \u001b[0;32mIn[23], line 1\u001b[0m\n\u001b[0;32m----> 1\u001b[0m \u001b[38;5;28;01mfor\u001b[39;00m feature \u001b[38;5;129;01min\u001b[39;00m \u001b[43mcategorical_features\u001b[49m:\n\u001b[1;32m      2\u001b[0m     plt\u001b[38;5;241m.\u001b[39mfigure(figsize\u001b[38;5;241m=\u001b[39m(\u001b[38;5;241m10\u001b[39m, \u001b[38;5;241m6\u001b[39m))\n\u001b[1;32m      3\u001b[0m     sns\u001b[38;5;241m.\u001b[39mcountplot(data\u001b[38;5;241m=\u001b[39musers, x\u001b[38;5;241m=\u001b[39mfeature, hue\u001b[38;5;241m=\u001b[39m\u001b[38;5;124m'\u001b[39m\u001b[38;5;124mcluster\u001b[39m\u001b[38;5;124m'\u001b[39m)\n",
      "\u001b[0;31mNameError\u001b[0m: name 'categorical_features' is not defined"
     ]
    }
   ],
   "source": [
    "for feature in categorical_features:\n",
    "    plt.figure(figsize=(10, 6))\n",
    "    sns.countplot(data=users, x=feature, hue='cluster')\n",
    "    plt.title(f'Clusters por {feature}')\n",
    "    plt.show()\n",
    "\n"
   ]
  },
  {
   "cell_type": "code",
   "execution_count": 6,
   "metadata": {},
   "outputs": [
    {
     "name": "stdout",
     "output_type": "stream",
     "text": [
      "Requirement already satisfied: sqlalchemy in /Users/carlosoliver/miniconda3/envs/“ML_ENV”/lib/python3.10/site-packages (2.0.30)\n",
      "Collecting pymysql\n",
      "  Using cached PyMySQL-1.1.1-py3-none-any.whl.metadata (4.4 kB)\n",
      "Requirement already satisfied: typing-extensions>=4.6.0 in /Users/carlosoliver/miniconda3/envs/“ML_ENV”/lib/python3.10/site-packages (from sqlalchemy) (4.11.0)\n",
      "Using cached PyMySQL-1.1.1-py3-none-any.whl (44 kB)\n",
      "Installing collected packages: pymysql\n",
      "Successfully installed pymysql-1.1.1\n"
     ]
    }
   ],
   "source": [
    "#pip install SQLAlchemy\n",
    "#!pip install sqlalchemy pymysql\n"
   ]
  },
  {
   "cell_type": "code",
   "execution_count": 21,
   "metadata": {},
   "outputs": [
    {
     "data": {
      "text/html": [
       "<div>\n",
       "<style scoped>\n",
       "    .dataframe tbody tr th:only-of-type {\n",
       "        vertical-align: middle;\n",
       "    }\n",
       "\n",
       "    .dataframe tbody tr th {\n",
       "        vertical-align: top;\n",
       "    }\n",
       "\n",
       "    .dataframe thead th {\n",
       "        text-align: right;\n",
       "    }\n",
       "</style>\n",
       "<table border=\"1\" class=\"dataframe\">\n",
       "  <thead>\n",
       "    <tr style=\"text-align: right;\">\n",
       "      <th></th>\n",
       "      <th>id</th>\n",
       "      <th>nombre</th>\n",
       "      <th>apellido</th>\n",
       "      <th>rol</th>\n",
       "      <th>token</th>\n",
       "      <th>password</th>\n",
       "      <th>pagado</th>\n",
       "      <th>puesto_trabajo</th>\n",
       "      <th>nombre_empresa</th>\n",
       "      <th>email</th>\n",
       "      <th>telefono</th>\n",
       "      <th>pais</th>\n",
       "      <th>interes</th>\n",
       "      <th>alergenos</th>\n",
       "      <th>linkedIn</th>\n",
       "      <th>image_path</th>\n",
       "      <th>cluster</th>\n",
       "      <th>createdAt</th>\n",
       "      <th>updatedAt</th>\n",
       "    </tr>\n",
       "  </thead>\n",
       "  <tbody>\n",
       "    <tr>\n",
       "      <th>0</th>\n",
       "      <td>320</td>\n",
       "      <td>fsdv&lt;sdvs&lt;</td>\n",
       "      <td>dv&lt;sdv</td>\n",
       "      <td>user</td>\n",
       "      <td>None</td>\n",
       "      <td>$2a$10$J29Ch7TnBwOKUq66VyLbQulBFpeZtKXHlmlk64t...</td>\n",
       "      <td>0</td>\n",
       "      <td>Consultor de e-Learning</td>\n",
       "      <td>dsv&lt;sfv</td>\n",
       "      <td>WEFWWEF@gmail.com</td>\n",
       "      <td>sdfvsfdv</td>\n",
       "      <td>France</td>\n",
       "      <td>[\"Gestión de la formación\"]</td>\n",
       "      <td>[\"Sésamo\"]</td>\n",
       "      <td>None</td>\n",
       "      <td>315</td>\n",
       "      <td>None</td>\n",
       "      <td>2024-07-02 12:20:00</td>\n",
       "      <td>2024-07-02 12:20:00</td>\n",
       "    </tr>\n",
       "  </tbody>\n",
       "</table>\n",
       "</div>"
      ],
      "text/plain": [
       "    id      nombre apellido   rol token  \\\n",
       "0  320  fsdv<sdvs<   dv<sdv  user  None   \n",
       "\n",
       "                                            password  pagado  \\\n",
       "0  $2a$10$J29Ch7TnBwOKUq66VyLbQulBFpeZtKXHlmlk64t...       0   \n",
       "\n",
       "            puesto_trabajo nombre_empresa              email  telefono  \\\n",
       "0  Consultor de e-Learning        dsv<sfv  WEFWWEF@gmail.com  sdfvsfdv   \n",
       "\n",
       "     pais                      interes   alergenos linkedIn image_path  \\\n",
       "0  France  [\"Gestión de la formación\"]  [\"Sésamo\"]     None        315   \n",
       "\n",
       "  cluster           createdAt           updatedAt  \n",
       "0    None 2024-07-02 12:20:00 2024-07-02 12:20:00  "
      ]
     },
     "execution_count": 21,
     "metadata": {},
     "output_type": "execute_result"
    }
   ],
   "source": [
    "#Datos conexion bbdd\n",
    "db_user = '***'\n",
    "db_password = '****'\n",
    "db_host = '****'\n",
    "db_port = '****'\n",
    "db_name = '****'\n",
    "# Crear la cadena de conexión\n",
    "churro = f'mysql+pymysql://{db_user}:{db_password}@{db_host}:{db_port}/{db_name}'\n",
    "engine = create_engine(churro)\n",
    "\n",
    "# Llamada Query última fila\n",
    "query = \"\"\"\n",
    "SELECT *\n",
    "FROM Users \n",
    "ORDER BY id DESC \n",
    "LIMIT 1;\n",
    "\"\"\"\n",
    "user_new1 = pd.read_sql(query, engine)\n",
    "user_new1"
   ]
  },
  {
   "cell_type": "code",
   "execution_count": 22,
   "metadata": {},
   "outputs": [],
   "source": [
    "user_new = user_new1[['id', 'rol', 'puesto_trabajo', 'pais', 'interes', 'alergenos']]"
   ]
  },
  {
   "cell_type": "code",
   "execution_count": 23,
   "metadata": {},
   "outputs": [
    {
     "name": "stderr",
     "output_type": "stream",
     "text": [
      "/var/folders/z3/hzk3_13n5c10wmqwhtszhh840000gn/T/ipykernel_61055/111861208.py:3: SettingWithCopyWarning: \n",
      "A value is trying to be set on a copy of a slice from a DataFrame.\n",
      "Try using .loc[row_indexer,col_indexer] = value instead\n",
      "\n",
      "See the caveats in the documentation: https://pandas.pydata.org/pandas-docs/stable/user_guide/indexing.html#returning-a-view-versus-a-copy\n",
      "  user_new[column] = label_encoders[column].transform(user_new[column].astype(str))\n",
      "/var/folders/z3/hzk3_13n5c10wmqwhtszhh840000gn/T/ipykernel_61055/111861208.py:3: SettingWithCopyWarning: \n",
      "A value is trying to be set on a copy of a slice from a DataFrame.\n",
      "Try using .loc[row_indexer,col_indexer] = value instead\n",
      "\n",
      "See the caveats in the documentation: https://pandas.pydata.org/pandas-docs/stable/user_guide/indexing.html#returning-a-view-versus-a-copy\n",
      "  user_new[column] = label_encoders[column].transform(user_new[column].astype(str))\n",
      "/var/folders/z3/hzk3_13n5c10wmqwhtszhh840000gn/T/ipykernel_61055/111861208.py:3: SettingWithCopyWarning: \n",
      "A value is trying to be set on a copy of a slice from a DataFrame.\n",
      "Try using .loc[row_indexer,col_indexer] = value instead\n",
      "\n",
      "See the caveats in the documentation: https://pandas.pydata.org/pandas-docs/stable/user_guide/indexing.html#returning-a-view-versus-a-copy\n",
      "  user_new[column] = label_encoders[column].transform(user_new[column].astype(str))\n",
      "/var/folders/z3/hzk3_13n5c10wmqwhtszhh840000gn/T/ipykernel_61055/111861208.py:3: SettingWithCopyWarning: \n",
      "A value is trying to be set on a copy of a slice from a DataFrame.\n",
      "Try using .loc[row_indexer,col_indexer] = value instead\n",
      "\n",
      "See the caveats in the documentation: https://pandas.pydata.org/pandas-docs/stable/user_guide/indexing.html#returning-a-view-versus-a-copy\n",
      "  user_new[column] = label_encoders[column].transform(user_new[column].astype(str))\n",
      "/var/folders/z3/hzk3_13n5c10wmqwhtszhh840000gn/T/ipykernel_61055/111861208.py:3: SettingWithCopyWarning: \n",
      "A value is trying to be set on a copy of a slice from a DataFrame.\n",
      "Try using .loc[row_indexer,col_indexer] = value instead\n",
      "\n",
      "See the caveats in the documentation: https://pandas.pydata.org/pandas-docs/stable/user_guide/indexing.html#returning-a-view-versus-a-copy\n",
      "  user_new[column] = label_encoders[column].transform(user_new[column].astype(str))\n"
     ]
    }
   ],
   "source": [
    "# Transformar las variables categóricas en números\n",
    "for column in user_new.columns[1:]:\n",
    "    user_new[column] = label_encoders[column].transform(user_new[column].astype(str))\n",
    "\n",
    "# Normalizar los datos\n",
    "user_new_scaled = scaler.transform(user_new[['rol', 'puesto_trabajo', 'pais', 'interes', 'alergenos']])\n",
    "\n",
    "# Predecir el cluster\n",
    "cluster = kmeans.predict(user_new_scaled)[0]"
   ]
  },
  {
   "cell_type": "code",
   "execution_count": 24,
   "metadata": {},
   "outputs": [
    {
     "data": {
      "text/plain": [
       "3"
      ]
     },
     "execution_count": 24,
     "metadata": {},
     "output_type": "execute_result"
    }
   ],
   "source": [
    "cluster"
   ]
  },
  {
   "cell_type": "code",
   "execution_count": 25,
   "metadata": {},
   "outputs": [
    {
     "data": {
      "text/plain": [
       "numpy.int32"
      ]
     },
     "execution_count": 25,
     "metadata": {},
     "output_type": "execute_result"
    }
   ],
   "source": [
    "type(cluster)"
   ]
  },
  {
   "cell_type": "code",
   "execution_count": 26,
   "metadata": {},
   "outputs": [],
   "source": [
    "user_new1['cluster'] = cluster"
   ]
  },
  {
   "cell_type": "code",
   "execution_count": 27,
   "metadata": {},
   "outputs": [
    {
     "data": {
      "text/html": [
       "<div>\n",
       "<style scoped>\n",
       "    .dataframe tbody tr th:only-of-type {\n",
       "        vertical-align: middle;\n",
       "    }\n",
       "\n",
       "    .dataframe tbody tr th {\n",
       "        vertical-align: top;\n",
       "    }\n",
       "\n",
       "    .dataframe thead th {\n",
       "        text-align: right;\n",
       "    }\n",
       "</style>\n",
       "<table border=\"1\" class=\"dataframe\">\n",
       "  <thead>\n",
       "    <tr style=\"text-align: right;\">\n",
       "      <th></th>\n",
       "      <th>id</th>\n",
       "      <th>nombre</th>\n",
       "      <th>apellido</th>\n",
       "      <th>rol</th>\n",
       "      <th>token</th>\n",
       "      <th>password</th>\n",
       "      <th>pagado</th>\n",
       "      <th>puesto_trabajo</th>\n",
       "      <th>nombre_empresa</th>\n",
       "      <th>email</th>\n",
       "      <th>telefono</th>\n",
       "      <th>pais</th>\n",
       "      <th>interes</th>\n",
       "      <th>alergenos</th>\n",
       "      <th>linkedIn</th>\n",
       "      <th>image_path</th>\n",
       "      <th>cluster</th>\n",
       "      <th>createdAt</th>\n",
       "      <th>updatedAt</th>\n",
       "    </tr>\n",
       "  </thead>\n",
       "  <tbody>\n",
       "    <tr>\n",
       "      <th>0</th>\n",
       "      <td>320</td>\n",
       "      <td>fsdv&lt;sdvs&lt;</td>\n",
       "      <td>dv&lt;sdv</td>\n",
       "      <td>user</td>\n",
       "      <td>None</td>\n",
       "      <td>$2a$10$J29Ch7TnBwOKUq66VyLbQulBFpeZtKXHlmlk64t...</td>\n",
       "      <td>0</td>\n",
       "      <td>Consultor de e-Learning</td>\n",
       "      <td>dsv&lt;sfv</td>\n",
       "      <td>WEFWWEF@gmail.com</td>\n",
       "      <td>sdfvsfdv</td>\n",
       "      <td>France</td>\n",
       "      <td>[\"Gestión de la formación\"]</td>\n",
       "      <td>[\"Sésamo\"]</td>\n",
       "      <td>None</td>\n",
       "      <td>315</td>\n",
       "      <td>3</td>\n",
       "      <td>2024-07-02 12:20:00</td>\n",
       "      <td>2024-07-02 12:20:00</td>\n",
       "    </tr>\n",
       "  </tbody>\n",
       "</table>\n",
       "</div>"
      ],
      "text/plain": [
       "    id      nombre apellido   rol token  \\\n",
       "0  320  fsdv<sdvs<   dv<sdv  user  None   \n",
       "\n",
       "                                            password  pagado  \\\n",
       "0  $2a$10$J29Ch7TnBwOKUq66VyLbQulBFpeZtKXHlmlk64t...       0   \n",
       "\n",
       "            puesto_trabajo nombre_empresa              email  telefono  \\\n",
       "0  Consultor de e-Learning        dsv<sfv  WEFWWEF@gmail.com  sdfvsfdv   \n",
       "\n",
       "     pais                      interes   alergenos linkedIn image_path  \\\n",
       "0  France  [\"Gestión de la formación\"]  [\"Sésamo\"]     None        315   \n",
       "\n",
       "   cluster           createdAt           updatedAt  \n",
       "0        3 2024-07-02 12:20:00 2024-07-02 12:20:00  "
      ]
     },
     "execution_count": 27,
     "metadata": {},
     "output_type": "execute_result"
    }
   ],
   "source": [
    "user_new1"
   ]
  },
  {
   "cell_type": "code",
   "execution_count": 28,
   "metadata": {},
   "outputs": [
    {
     "data": {
      "text/plain": [
       "pandas.core.series.Series"
      ]
     },
     "execution_count": 28,
     "metadata": {},
     "output_type": "execute_result"
    }
   ],
   "source": [
    "#!pip install mysql-connector-python\n",
    "type(user_new1['cluster'])"
   ]
  },
  {
   "cell_type": "code",
   "execution_count": 29,
   "metadata": {},
   "outputs": [
    {
     "data": {
      "text/plain": [
       "320"
      ]
     },
     "execution_count": 29,
     "metadata": {},
     "output_type": "execute_result"
    }
   ],
   "source": [
    "cluster_value = user_new1['cluster'][0]\n",
    "id_value = user_new1['id'][0]\n",
    "\n",
    "str(cluster_value)\n",
    "str(id_value)\n",
    "int(cluster_value)\n",
    "int(id_value)"
   ]
  },
  {
   "cell_type": "code",
   "execution_count": 30,
   "metadata": {},
   "outputs": [
    {
     "data": {
      "text/plain": [
       "numpy.int32"
      ]
     },
     "execution_count": 30,
     "metadata": {},
     "output_type": "execute_result"
    }
   ],
   "source": [
    "type(cluster_value)"
   ]
  },
  {
   "cell_type": "code",
   "execution_count": 31,
   "metadata": {},
   "outputs": [
    {
     "name": "stdout",
     "output_type": "stream",
     "text": [
      "La fila se actualizó correctamente.\n"
     ]
    }
   ],
   "source": [
    "import mysql.connector\n",
    "\n",
    "# Establecer conexión a la base de datos\n",
    "conn = mysql.connector.connect(\n",
    "    host=\"34.76.186.221\",\n",
    "    user=\"app-pentec\",\n",
    "    password=\"Equipo_2\",\n",
    "    database=\"mysql_app\"\n",
    ")\n",
    "\n",
    "# Crear cursor para ejecutar consultas\n",
    "cursor = conn.cursor()\n",
    "\n",
    "# Construir la consulta SQL de actualización\n",
    "\n",
    "update_query = \"\"\"\n",
    "    UPDATE Users \n",
    "    SET cluster = %s \n",
    "    WHERE id = %s;\n",
    "\"\"\"\n",
    "\n",
    "\n",
    "try:\n",
    "    # Ejecutar la consulta\n",
    "    cursor.execute(update_query, (f\"{cluster_value}\", f\"{id_value}\"))\n",
    "    # Commit para aplicar los cambios en la base de datos\n",
    "    conn.commit()\n",
    "\n",
    "    print(\"La fila se actualizó correctamente.\")\n",
    "except Exception as e:\n",
    "    print(f\"Error al ejecutar la consulta: {str(e)}\")\n",
    "    conn.rollback()  # Revertir cambios en caso de error\n",
    "finally:\n",
    "    # Cerrar cursor y conexión\n",
    "    if 'cursor' in locals() and cursor is not None:\n",
    "        cursor.close()\n",
    "    if 'conn' in locals() and conn is not None:\n",
    "        conn.close()\n"
   ]
  },
  {
   "cell_type": "code",
   "execution_count": 32,
   "metadata": {},
   "outputs": [
    {
     "data": {
      "text/html": [
       "<div>\n",
       "<style scoped>\n",
       "    .dataframe tbody tr th:only-of-type {\n",
       "        vertical-align: middle;\n",
       "    }\n",
       "\n",
       "    .dataframe tbody tr th {\n",
       "        vertical-align: top;\n",
       "    }\n",
       "\n",
       "    .dataframe thead th {\n",
       "        text-align: right;\n",
       "    }\n",
       "</style>\n",
       "<table border=\"1\" class=\"dataframe\">\n",
       "  <thead>\n",
       "    <tr style=\"text-align: right;\">\n",
       "      <th></th>\n",
       "      <th>id</th>\n",
       "      <th>nombre</th>\n",
       "      <th>apellido</th>\n",
       "      <th>rol</th>\n",
       "      <th>token</th>\n",
       "      <th>password</th>\n",
       "      <th>pagado</th>\n",
       "      <th>puesto_trabajo</th>\n",
       "      <th>nombre_empresa</th>\n",
       "      <th>email</th>\n",
       "      <th>telefono</th>\n",
       "      <th>pais</th>\n",
       "      <th>interes</th>\n",
       "      <th>alergenos</th>\n",
       "      <th>linkedIn</th>\n",
       "      <th>image_path</th>\n",
       "      <th>cluster</th>\n",
       "      <th>createdAt</th>\n",
       "      <th>updatedAt</th>\n",
       "    </tr>\n",
       "  </thead>\n",
       "  <tbody>\n",
       "    <tr>\n",
       "      <th>0</th>\n",
       "      <td>320</td>\n",
       "      <td>fsdv&lt;sdvs&lt;</td>\n",
       "      <td>dv&lt;sdv</td>\n",
       "      <td>user</td>\n",
       "      <td>None</td>\n",
       "      <td>$2a$10$J29Ch7TnBwOKUq66VyLbQulBFpeZtKXHlmlk64t...</td>\n",
       "      <td>0</td>\n",
       "      <td>Consultor de e-Learning</td>\n",
       "      <td>dsv&lt;sfv</td>\n",
       "      <td>WEFWWEF@gmail.com</td>\n",
       "      <td>sdfvsfdv</td>\n",
       "      <td>France</td>\n",
       "      <td>[\"Gestión de la formación\"]</td>\n",
       "      <td>[\"Sésamo\"]</td>\n",
       "      <td>None</td>\n",
       "      <td>315</td>\n",
       "      <td>3</td>\n",
       "      <td>2024-07-02 12:20:00</td>\n",
       "      <td>2024-07-02 12:20:00</td>\n",
       "    </tr>\n",
       "  </tbody>\n",
       "</table>\n",
       "</div>"
      ],
      "text/plain": [
       "    id      nombre apellido   rol token  \\\n",
       "0  320  fsdv<sdvs<   dv<sdv  user  None   \n",
       "\n",
       "                                            password  pagado  \\\n",
       "0  $2a$10$J29Ch7TnBwOKUq66VyLbQulBFpeZtKXHlmlk64t...       0   \n",
       "\n",
       "            puesto_trabajo nombre_empresa              email  telefono  \\\n",
       "0  Consultor de e-Learning        dsv<sfv  WEFWWEF@gmail.com  sdfvsfdv   \n",
       "\n",
       "     pais                      interes   alergenos linkedIn image_path  \\\n",
       "0  France  [\"Gestión de la formación\"]  [\"Sésamo\"]     None        315   \n",
       "\n",
       "   cluster           createdAt           updatedAt  \n",
       "0        3 2024-07-02 12:20:00 2024-07-02 12:20:00  "
      ]
     },
     "execution_count": 32,
     "metadata": {},
     "output_type": "execute_result"
    }
   ],
   "source": [
    "query = \"\"\"\n",
    "SELECT *\n",
    "FROM Users \n",
    "ORDER BY id DESC \n",
    "LIMIT 1;\n",
    "\"\"\"\n",
    "user_new = pd.read_sql(query, engine)\n",
    "user_new"
   ]
  },
  {
   "cell_type": "code",
   "execution_count": null,
   "metadata": {},
   "outputs": [],
   "source": []
  },
  {
   "cell_type": "code",
   "execution_count": null,
   "metadata": {},
   "outputs": [],
   "source": []
  },
  {
   "cell_type": "code",
   "execution_count": null,
   "metadata": {},
   "outputs": [],
   "source": []
  },
  {
   "cell_type": "code",
   "execution_count": null,
   "metadata": {},
   "outputs": [],
   "source": []
  }
 ],
 "metadata": {
  "kernelspec": {
   "display_name": "“ML_ENV”",
   "language": "python",
   "name": "python3"
  },
  "language_info": {
   "codemirror_mode": {
    "name": "ipython",
    "version": 3
   },
   "file_extension": ".py",
   "mimetype": "text/x-python",
   "name": "python",
   "nbconvert_exporter": "python",
   "pygments_lexer": "ipython3",
   "version": "3.10.14"
  }
 },
 "nbformat": 4,
 "nbformat_minor": 2
}
