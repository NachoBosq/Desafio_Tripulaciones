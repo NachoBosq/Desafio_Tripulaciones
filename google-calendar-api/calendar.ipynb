{
 "cells": [
  {
   "cell_type": "code",
   "execution_count": 1,
   "metadata": {},
   "outputs": [],
   "source": [
    "#pip install google-api-python-client google-auth-httplib2 google-auth-oauthlib"
   ]
  },
  {
   "cell_type": "code",
   "execution_count": 6,
   "metadata": {},
   "outputs": [
    {
     "name": "stdout",
     "output_type": "stream",
     "text": [
      "Event created: https://www.google.com/calendar/event?eid=cnZuZTZqaHVmbGJjZWVudjg4amplZTcyODAgZ3J1cG8yZGVzYWZpb2RldHJpcHVAbQ\n"
     ]
    }
   ],
   "source": [
    "def get_availability(service, attendees, start_time, end_time):\n",
    "    body = {\n",
    "        \"timeMin\": start_time,\n",
    "        \"timeMax\": end_time,\n",
    "        \"timeZone\": \"UTC\",\n",
    "        \"items\": [{\"id\": attendee} for attendee in attendees]\n",
    "    }\n",
    "    eventsResult = service.freebusy().query(body=body).execute()\n",
    "    return eventsResult['calendars']"
   ]
  },
  {
   "cell_type": "code",
   "execution_count": null,
   "metadata": {},
   "outputs": [],
   "source": [
    "def find_best_time(service, attendees, date):\n",
    "    possible_times = [(datetime.datetime(date.year, date.month, date.day, hour, 0), \n",
    "                       datetime.datetime(date.year, date.month, date.day, hour+1, 0)) \n",
    "                      for hour in range(9, 17)]\n",
    "    \n",
    "    best_time = None\n",
    "    max_availability = 0\n",
    "    \n",
    "    for start, end in possible_times:\n",
    "        start_iso = start.isoformat() + 'Z'\n",
    "        end_iso = end.isoformat() + 'Z'\n",
    "        availability = get_availability(service, attendees, start_iso, end_iso)\n",
    "        \n",
    "        available_count = sum(1 for cal in availability.values() if not cal['busy'])\n",
    "        \n",
    "        if available_count > max_availability:\n",
    "            max_availability = available_count\n",
    "            best_time = (start, end)\n",
    "    \n",
    "    return best_time\n",
    "\n"
   ]
  },
  {
   "cell_type": "code",
   "execution_count": null,
   "metadata": {},
   "outputs": [],
   "source": [
    "def create_event(service, attendees, best_time):\n",
    "    event = {\n",
    "        'summary': 'Reunión',\n",
    "        'location': 'Virtual',\n",
    "        'description': 'Reunión para discutir el proyecto.',\n",
    "        'start': {\n",
    "            'dateTime': best_time[0].isoformat(),\n",
    "            'timeZone': 'UTC',\n",
    "        },\n",
    "        'end': {\n",
    "            'dateTime': best_time[1].isoformat(),\n",
    "            'timeZone': 'UTC',\n",
    "        },\n",
    "        'attendees': [{'email': attendee} for attendee in attendees],\n",
    "        'reminders': {\n",
    "            'useDefault': False,\n",
    "            'overrides': [\n",
    "                {'method': 'email', 'minutes': 24 * 60},\n",
    "                {'method': 'popup', 'minutes': 10},\n",
    "            ],\n",
    "        },\n",
    "    }\n",
    "    event = service.events().insert(calendarId='primary', body=event).execute()\n",
    "    print('Event created: %s' % (event.get('htmlLink')))\n",
    "\n"
   ]
  },
  {
   "cell_type": "code",
   "execution_count": null,
   "metadata": {},
   "outputs": [],
   "source": [
    "attendees = ['email1@example.com', 'email2@example.com', 'email3@example.com']\n",
    "date = datetime.datetime(2024, 7, 20)\n",
    "\n",
    "best_time = find_best_time(service, attendees, date)\n",
    "\n",
    "if best_time:\n",
    "    create_event(service, attendees, best_time)\n",
    "else:\n",
    "    print(\"No suitable time found for the meeting.\")"
   ]
  },
  {
   "cell_type": "code",
   "execution_count": null,
   "metadata": {},
   "outputs": [],
   "source": []
  }
 ],
 "metadata": {
  "kernelspec": {
   "display_name": "CALENDAR-ENV",
   "language": "python",
   "name": "python3"
  },
  "language_info": {
   "codemirror_mode": {
    "name": "ipython",
    "version": 3
   },
   "file_extension": ".py",
   "mimetype": "text/x-python",
   "name": "python",
   "nbconvert_exporter": "python",
   "pygments_lexer": "ipython3",
   "version": "3.12.4"
  }
 },
 "nbformat": 4,
 "nbformat_minor": 2
}
